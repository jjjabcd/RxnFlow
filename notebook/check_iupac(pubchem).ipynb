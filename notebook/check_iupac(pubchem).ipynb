{
 "cells": [
  {
   "cell_type": "code",
   "execution_count": 1,
   "id": "6beab6b9",
   "metadata": {},
   "outputs": [],
   "source": [
    "import os\n",
    "import sys\n",
    "import pandas as pd\n",
    "\n",
    "from tqdm import tqdm\n",
    "from multiprocessing import Pool, cpu_count\n",
    "\n",
    "import pubchempy as pcp\n",
    "from pubchempy import PubChemHTTPError"
   ]
  },
  {
   "cell_type": "code",
   "execution_count": 2,
   "id": "a9e1f8ac",
   "metadata": {},
   "outputs": [],
   "source": [
    "ROOT_DIR = os.path.join('/home', 'rlawlsgurjh', 'hdd', 'work', 'RxnFlow')\n",
    "\n",
    "DATA_DIR = os.path.join(ROOT_DIR, 'data', 'building_blocks')\n",
    "\n",
    "SMI_PATH = os.path.join(DATA_DIR, 'enamine_catalog.smi')\n",
    "\n",
    "CHECKPOINT_PATH = os.path.join(DATA_DIR, 'iupac_results.csv')"
   ]
  },
  {
   "cell_type": "code",
   "execution_count": 3,
   "id": "815fd316",
   "metadata": {},
   "outputs": [],
   "source": [
    "def fetch_iupac(smi):\n",
    "    try:\n",
    "        mol = pcp.get_compounds(smi, \"smiles\")\n",
    "        if mol and mol[0].iupac_name:\n",
    "            return (\"success\", smi, mol[0].iupac_name)\n",
    "        return (\"error\", smi, \"No result from PubChem\")\n",
    "    except PubChemHTTPError as e:\n",
    "        if e.msg.startswith('PUGREST.NotAuthorized'):\n",
    "            return (\"http_401\", smi, str(e))\n",
    "        return (\"error\", smi, str(e))\n",
    "    except Exception as e:\n",
    "        return (\"error\", smi, str(e))"
   ]
  },
  {
   "cell_type": "code",
   "execution_count": 4,
   "id": "6f5c18d6",
   "metadata": {},
   "outputs": [],
   "source": [
    "def save_checkpoint(success_list, error_list, success_path, error_path):\n",
    "    if success_list:\n",
    "        success_df = pd.DataFrame(success_list)\n",
    "        success_df.to_csv(success_path, mode='a', index=False, header=not os.path.exists(success_path))\n",
    "        success_list.clear()\n",
    "\n",
    "    if error_list:\n",
    "        error_df = pd.DataFrame(error_list)\n",
    "        error_df.to_csv(error_path, mode='a', index=False, header=not os.path.exists(error_path))\n",
    "        error_list.clear()"
   ]
  },
  {
   "cell_type": "code",
   "execution_count": 5,
   "id": "aca56a5f",
   "metadata": {},
   "outputs": [],
   "source": [
    "def check_iupac_parallel(\n",
    "    smi_path, \n",
    "    success_path=\"iupac_success.csv\",\n",
    "    error_path=\"iupac_error.csv\", \n",
    "    checkpoint_interval=1000, \n",
    "    num_cpus=None\n",
    "    ):\n",
    "    \"\"\"\n",
    "    Reads a .smi file and processes it in parallel to fetch IUPAC names.\n",
    "    Stops all processes immediately if a 401 Unauthorized error is received.\n",
    "    \"\"\"\n",
    "    if num_cpus is None:\n",
    "        # Default to using all available CPU cores\n",
    "        num_cpus = cpu_count()\n",
    "    print(f\"Using {num_cpus} CPU cores.\")\n",
    "\n",
    "    # Parse SMILES strings to be processed from the input file\n",
    "    smiles_to_process = []\n",
    "    try:\n",
    "        with open(smi_path, \"r\") as f:\n",
    "            for line in f:\n",
    "                parts = line.strip().split()\n",
    "                if parts and parts[0]:\n",
    "                    smiles_to_process.append(parts[0])\n",
    "    except FileNotFoundError:\n",
    "        print(f\"Error: File not found at {smi_path}\")\n",
    "        return\n",
    "\n",
    "    # Buffers for checkpointing and counters for tracking progress\n",
    "    success_buffer = []\n",
    "    error_buffer = []\n",
    "    total_success_count = 0\n",
    "    total_error_count = 0\n",
    "    processed_count = 0\n",
    "\n",
    "    # Create a pool of worker processes\n",
    "    with Pool(processes=num_cpus) as pool:\n",
    "        # Use imap_unordered for efficient, non-blocking iteration\n",
    "        results_iterator = pool.imap_unordered(fetch_iupac, smiles_to_process)\n",
    "        \n",
    "        try:\n",
    "            for result in tqdm(results_iterator, total=len(smiles_to_process), desc=\"Processing SMILES -> IUPAC\"):\n",
    "                processed_count += 1\n",
    "                status, smi, data = result\n",
    "\n",
    "                # Detect and handle 401 Unauthorized error\n",
    "                if status == \"http_401\":\n",
    "                    # Calculate final counts before exiting\n",
    "                    current_successes = total_success_count + len(success_buffer)\n",
    "                    # The current 401 error itself is counted as a failure\n",
    "                    current_errors = total_error_count + len(error_buffer) + 1\n",
    "                    \n",
    "                    print(\"\\n\" + \"=\"*60, file=sys.stderr)\n",
    "                    print(\"FATAL ERROR: Received 401 Unauthorized from PubChem API.\", file=sys.stderr)\n",
    "                    print(\"This could be due to a temporary IP ban or API access issues.\", file=sys.stderr)\n",
    "                    print(\"Stopping all processes to prevent further issues.\", file=sys.stderr)\n",
    "                    print(\"-\" * 60, file=sys.stderr)\n",
    "                    print(\"PROCESS SUMMARY:\", file=sys.stderr)\n",
    "                    print(f\"  Total molecules processed before stop: {processed_count}\", file=sys.stderr)\n",
    "                    print(f\"  Successful lookups: {current_successes}\", file=sys.stderr)\n",
    "                    print(f\"  Failed lookups: {current_errors}\", file=sys.stderr)\n",
    "                    print(\"=\"*60, file=sys.stderr)\n",
    "                    \n",
    "                    # Add the molecule that caused the 401 error to the error buffer\n",
    "                    error_buffer.append({'smiles': smi, 'reason': f'FATAL_401_ERROR: {data}'})\n",
    "                    \n",
    "                    # Save the last checkpoint before exiting\n",
    "                    print(\"\\nSaving last checkpoint before exiting...\")\n",
    "                    save_checkpoint(success_buffer, error_buffer, success_path, error_path)\n",
    "                    \n",
    "                    # Immediately terminate all worker processes\n",
    "                    pool.terminate()\n",
    "                    return\n",
    "                # 2. 'ServerBusy' 오류를 감지하는 새로운 조건 추가\n",
    "                elif status == \"error\" and 'ServerBusy' in str(data):\n",
    "                    # 최종 카운트 계산\n",
    "                    current_successes = total_success_count + len(success_buffer)\n",
    "                    current_errors = total_error_count + len(error_buffer) + 1 # 현재 오류 포함\n",
    "                    \n",
    "                    print(\"\\n\" + \"=\"*60, file=sys.stderr)\n",
    "                    print(\"API LIMIT ERROR: Received 'ServerBusy' from PubChem API.\", file=sys.stderr)\n",
    "                    print(\"This is likely due to sending too many requests too quickly.\", file=sys.stderr)\n",
    "                    print(\"Stopping all processes to avoid a potential IP ban.\", file=sys.stderr)\n",
    "                    print(\"-\" * 60, file=sys.stderr)\n",
    "                    print(\"PROCESS SUMMARY:\", file=sys.stderr)\n",
    "                    print(f\"  Total molecules processed before stop: {processed_count}\", file=sys.stderr)\n",
    "                    print(f\"  Successful lookups: {current_successes}\", file=sys.stderr)\n",
    "                    print(f\"  Failed lookups: {current_errors}\", file=sys.stderr)\n",
    "                    print(\"=\"*60, file=sys.stderr)\n",
    "                    \n",
    "                    error_buffer.append({'smiles': smi, 'reason': f'API_LIMIT_ERROR: {data}'})\n",
    "                    \n",
    "                    print(\"\\nSaving last checkpoint before exiting...\")\n",
    "                    save_checkpoint(success_buffer, error_buffer, success_path, error_path)\n",
    "                    \n",
    "                    pool.terminate()\n",
    "                    return\n",
    "                elif status == \"success\":\n",
    "                    success_buffer.append({'smiles': smi, 'iupac': data})\n",
    "                else: # 'error' status\n",
    "                    error_buffer.append({'smiles': smi, 'reason': data})\n",
    "\n",
    "                # Save to file when the buffer reaches the checkpoint interval\n",
    "                if len(success_buffer) + len(error_buffer) >= checkpoint_interval:\n",
    "                    total_success_count += len(success_buffer)\n",
    "                    total_error_count += len(error_buffer)\n",
    "                    save_checkpoint(success_buffer, error_buffer, success_path, error_path)\n",
    "        \n",
    "        except KeyboardInterrupt:\n",
    "            print(\"\\nProcess interrupted by user. Terminating pool and saving progress...\")\n",
    "            pool.terminate() # Stop worker processes\n",
    "            pool.join()      # Wait for them to terminate\n",
    "            save_checkpoint(success_buffer, error_buffer, success_path, error_path)\n",
    "            print(\"Progress saved. Exiting.\")\n",
    "            return\n",
    "\n",
    "    # After the loop finishes, save any remaining data in the buffers\n",
    "    save_checkpoint(success_buffer, error_buffer, success_path, error_path)\n",
    "\n",
    "    print(\"\\nProcessing complete.\")\n",
    "    print(f\"Success results saved to: {success_path}\")\n",
    "    print(f\"Error logs saved to: {error_path}\")"
   ]
  },
  {
   "cell_type": "code",
   "execution_count": 6,
   "id": "e1b40e73",
   "metadata": {},
   "outputs": [
    {
     "name": "stdout",
     "output_type": "stream",
     "text": [
      "Using 4 CPU cores.\n"
     ]
    },
    {
     "name": "stderr",
     "output_type": "stream",
     "text": [
      "Processing SMILES -> IUPAC:   0%|          | 0/1499332 [00:00<?, ?it/s]\n",
      "============================================================\n",
      "API LIMIT ERROR: Received 'ServerBusy' from PubChem API.\n",
      "This is likely due to sending too many requests too quickly.\n",
      "Stopping all processes to avoid a potential IP ban.\n",
      "------------------------------------------------------------\n",
      "PROCESS SUMMARY:\n",
      "  Total molecules processed before stop: 1\n",
      "  Successful lookups: 0\n",
      "  Failed lookups: 1\n",
      "============================================================\n",
      "Processing SMILES -> IUPAC:   0%|          | 0/1499332 [00:00<?, ?it/s]"
     ]
    },
    {
     "name": "stdout",
     "output_type": "stream",
     "text": [
      "\n",
      "Saving last checkpoint before exiting...\n"
     ]
    },
    {
     "name": "stderr",
     "output_type": "stream",
     "text": [
      "\n"
     ]
    }
   ],
   "source": [
    "check_iupac_parallel(\n",
    "    smi_path=SMI_PATH,\n",
    "    success_path=os.path.join(DATA_DIR, \"success.csv\"),\n",
    "    error_path=os.path.join(DATA_DIR, \"error.csv\"),\n",
    "    checkpoint_interval=100,\n",
    "    num_cpus=4\n",
    ")"
   ]
  },
  {
   "cell_type": "code",
   "execution_count": 7,
   "id": "4942abeb",
   "metadata": {},
   "outputs": [
    {
     "name": "stdout",
     "output_type": "stream",
     "text": [
      "\n",
      "--- Success Results ---\n",
      "                                            smiles  \\\n",
      "0           COc1cc(C=O)ccc1OCC(=O)c1ccc(Cl)c(Cl)c1   \n",
      "1                 CCCCn1c(S)nc2cc(C(=O)OC)ccc2c1=O   \n",
      "2                  CCOc1cc(C=O)ccc1OC(C)C(=O)N(C)C   \n",
      "3      C=CCn1c(S)nnc1-c1cc(-c2ccc(C)cc2)nc2ccccc12   \n",
      "4                             COc1cc(Cl)ccc1C(=O)O   \n",
      "...                                            ...   \n",
      "89768                [N-]=[N+]=NCCc1ccc2cc[nH]c2c1   \n",
      "89769                                CCSCC(C)(C)CO   \n",
      "89770                          Cn1cnc(CC2(N)CC2)c1   \n",
      "89771                       CC(C)Oc1ccc(C(C)ON)cc1   \n",
      "89772                         CC(C)Oc1ccc(CCON)cc1   \n",
      "\n",
      "                                                   iupac  \n",
      "0      4-[2-(3,4-dichlorophenyl)-2-oxoethoxy]-3-metho...  \n",
      "1      methyl 3-butyl-4-oxo-2-sulfanylidene-1H-quinaz...  \n",
      "2      2-(2-ethoxy-4-formylphenoxy)-N,N-dimethylpropa...  \n",
      "3      3-[2-(4-methylphenyl)quinolin-4-yl]-4-prop-2-e...  \n",
      "4                         4-chloro-2-methoxybenzoic acid  \n",
      "...                                                  ...  \n",
      "89768                         6-(2-azidoethyl)-1H-indole  \n",
      "89769            3-ethylsulfanyl-2,2-dimethylpropan-1-ol  \n",
      "89770  1-[(1-methylimidazol-4-yl)methyl]cyclopropan-1...  \n",
      "89771   O-[1-(4-propan-2-yloxyphenyl)ethyl]hydroxylamine  \n",
      "89772   O-[2-(4-propan-2-yloxyphenyl)ethyl]hydroxylamine  \n",
      "\n",
      "[89773 rows x 2 columns]\n"
     ]
    }
   ],
   "source": [
    "print(\"\\n--- Success Results ---\")\n",
    "if os.path.exists(os.path.join(DATA_DIR, \"test_success.csv\")):\n",
    "    print(pd.read_csv(os.path.join(DATA_DIR, \"test_success.csv\")))"
   ]
  },
  {
   "cell_type": "code",
   "execution_count": 8,
   "id": "9baa6f69",
   "metadata": {},
   "outputs": [
    {
     "name": "stdout",
     "output_type": "stream",
     "text": [
      "\n",
      "--- Error Results ---\n",
      "                                  smiles                  reason\n",
      "0        O=c1[nH][nH]cc2c3cc(F)ccc3nc1-2  No result from PubChem\n",
      "1       O=c1[nH][nH]cc2c3cc(Cl)ccc3nc1-2  No result from PubChem\n",
      "2            O=C(/C=C/[O-])c1nc2ccccc2s1  No result from PubChem\n",
      "3           S=c1[nH][nH]cc2c3ccccc3nc1-2  No result from PubChem\n",
      "4                      O=C(C=C[O-])C1CC1  No result from PubChem\n",
      "...                                  ...                     ...\n",
      "256426       Cc1ccc(CC(C)C(=O)O)c(C)c1Br    'PUGREST.ServerBusy'\n",
      "256427           Cc1ccc(C(C)CCN)c(C)c1Br    'PUGREST.ServerBusy'\n",
      "256428             Cc1ccc(CCC#N)c(C)c1Br    'PUGREST.ServerBusy'\n",
      "256429                 CC(CBr)c1ccn(C)n1    'PUGREST.ServerBusy'\n",
      "256430                 Cn1ccc(C(O)CBr)n1    'PUGREST.ServerBusy'\n",
      "\n",
      "[256431 rows x 2 columns]\n"
     ]
    }
   ],
   "source": [
    "print(\"\\n--- Error Results ---\")\n",
    "if os.path.exists(os.path.join(DATA_DIR, \"test_error.csv\")):\n",
    "    print(pd.read_csv(os.path.join(DATA_DIR, \"test_error.csv\")))"
   ]
  },
  {
   "cell_type": "code",
   "execution_count": 27,
   "id": "9474e305",
   "metadata": {},
   "outputs": [],
   "source": [
    "success_df = pd.read_csv(os.path.join(DATA_DIR, \"test_success.csv\"))\n",
    "error_df = pd.read_csv(os.path.join(DATA_DIR, \"test_error.csv\"))"
   ]
  },
  {
   "cell_type": "code",
   "execution_count": 28,
   "id": "b14f260b",
   "metadata": {},
   "outputs": [
    {
     "name": "stdout",
     "output_type": "stream",
     "text": [
      "88380\n",
      "4\n"
     ]
    }
   ],
   "source": [
    "print(len(success_df['iupac'].unique()))\n",
    "print(len(error_df['reason'].unique()))"
   ]
  },
  {
   "cell_type": "code",
   "execution_count": 29,
   "id": "aff15910",
   "metadata": {},
   "outputs": [
    {
     "name": "stdout",
     "output_type": "stream",
     "text": [
      "['No result from PubChem' \"'PUGREST.ServerBusy'\" \"'Proxy Error'\"\n",
      " '<urlopen error [Errno 101] Network is unreachable>']\n"
     ]
    }
   ],
   "source": [
    "print(error_df['reason'].unique())"
   ]
  },
  {
   "cell_type": "code",
   "execution_count": 35,
   "id": "6137b3d8",
   "metadata": {},
   "outputs": [
    {
     "name": "stdout",
     "output_type": "stream",
     "text": [
      "(89773, 2)\n",
      "0.984%\n"
     ]
    }
   ],
   "source": [
    "print(success_df.shape)\n",
    "print(f\"{len(success_df['iupac'].unique())/len(success_df):.3f}%\")"
   ]
  },
  {
   "cell_type": "code",
   "execution_count": 34,
   "id": "c5169826",
   "metadata": {},
   "outputs": [
    {
     "name": "stdout",
     "output_type": "stream",
     "text": [
      "(256431, 2)\n",
      "(1947, 2)\n",
      "(91720, 3)\n",
      "0.964%\n"
     ]
    }
   ],
   "source": [
    "unique_success_df = success_df['iupac'].unique()\n",
    "\n",
    "filter_error_df = error_df[~error_df['reason'].str.contains('ServerBusy')]\n",
    "\n",
    "total_df = pd.concat([success_df, filter_error_df])\n",
    "\n",
    "ratio = len(success_df['iupac'].unique())/len(total_df)\n",
    "\n",
    "print(error_df.shape)\n",
    "print(filter_error_df.shape)\n",
    "print(total_df.shape)\n",
    "print(f\"{ratio:.3f}%\")"
   ]
  },
  {
   "cell_type": "code",
   "execution_count": 33,
   "id": "fb7a98f6",
   "metadata": {},
   "outputs": [
    {
     "data": {
      "text/plain": [
       "reason\n",
       "No result from PubChem                                1938\n",
       "<urlopen error [Errno 101] Network is unreachable>       5\n",
       "'Proxy Error'                                            4\n",
       "Name: count, dtype: int64"
      ]
     },
     "execution_count": 33,
     "metadata": {},
     "output_type": "execute_result"
    }
   ],
   "source": [
    "filter_error_df['reason'].value_counts()"
   ]
  },
  {
   "cell_type": "code",
   "execution_count": null,
   "id": "0a4426cc",
   "metadata": {},
   "outputs": [],
   "source": []
  }
 ],
 "metadata": {
  "kernelspec": {
   "display_name": "Python 3 (ipykernel)",
   "language": "python",
   "name": "python3"
  },
  "language_info": {
   "codemirror_mode": {
    "name": "ipython",
    "version": 3
   },
   "file_extension": ".py",
   "mimetype": "text/x-python",
   "name": "python",
   "nbconvert_exporter": "python",
   "pygments_lexer": "ipython3",
   "version": "3.12.11"
  }
 },
 "nbformat": 4,
 "nbformat_minor": 5
}
