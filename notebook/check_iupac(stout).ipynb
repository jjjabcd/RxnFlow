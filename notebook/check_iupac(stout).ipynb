{
 "cells": [
  {
   "cell_type": "code",
   "execution_count": 1,
   "id": "6beab6b9",
   "metadata": {},
   "outputs": [
    {
     "name": "stderr",
     "output_type": "stream",
     "text": [
      "2025-08-29 16:46:13.447658: I tensorflow/core/util/port.cc:153] oneDNN custom operations are on. You may see slightly different numerical results due to floating-point round-off errors from different computation orders. To turn them off, set the environment variable `TF_ENABLE_ONEDNN_OPTS=0`.\n",
      "2025-08-29 16:46:13.503657: I tensorflow/core/platform/cpu_feature_guard.cc:210] This TensorFlow binary is optimized to use available CPU instructions in performance-critical operations.\n",
      "To enable the following instructions: AVX2 AVX512F AVX512_VNNI FMA, in other operations, rebuild TensorFlow with the appropriate compiler flags.\n",
      "2025-08-29 16:46:15.210685: I tensorflow/core/util/port.cc:153] oneDNN custom operations are on. You may see slightly different numerical results due to floating-point round-off errors from different computation orders. To turn them off, set the environment variable `TF_ENABLE_ONEDNN_OPTS=0`.\n"
     ]
    },
    {
     "name": "stdout",
     "output_type": "stream",
     "text": [
      "/home/rlawlsgurjh/.data/STOUT-V2/models/translator_forward/\n",
      "Downloading trained model to /home/rlawlsgurjh/.data/STOUT-V2/models\n"
     ]
    },
    {
     "data": {
      "application/vnd.jupyter.widget-view+json": {
       "model_id": "0ba21fc3450b4e1db5fae6e8f8d555dd",
       "version_major": 2,
       "version_minor": 0
      },
      "text/plain": [
       "Downloading models.zip: 0.00B [00:00, ?B/s]"
      ]
     },
     "metadata": {},
     "output_type": "display_data"
    },
    {
     "ename": "DownloadError",
     "evalue": "Failed with urllib to download https://zenodo.org/records/12542360/files/models.zip?download=1 to /home/rlawlsgurjh/.data/STOUT-V2/models.zip",
     "output_type": "error",
     "traceback": [
      "\u001b[31m---------------------------------------------------------------------------\u001b[39m",
      "\u001b[31mHTTPError\u001b[39m                                 Traceback (most recent call last)",
      "\u001b[36mFile \u001b[39m\u001b[32m~/hdd/miniconda3/envs/rxnflow-iupac/lib/python3.12/site-packages/pystow/utils.py:415\u001b[39m, in \u001b[36mdownload\u001b[39m\u001b[34m(url, path, force, clean_on_failure, backend, hexdigests, hexdigests_remote, hexdigests_strict, progress_bar, tqdm_kwargs, **kwargs)\u001b[39m\n\u001b[32m    414\u001b[39m \u001b[38;5;28;01mtry\u001b[39;00m:\n\u001b[32m--> \u001b[39m\u001b[32m415\u001b[39m     \u001b[43murlretrieve\u001b[49m\u001b[43m(\u001b[49m\u001b[43murl\u001b[49m\u001b[43m,\u001b[49m\u001b[43m \u001b[49m\u001b[43mpath\u001b[49m\u001b[43m,\u001b[49m\u001b[43m \u001b[49m\u001b[43mreporthook\u001b[49m\u001b[43m=\u001b[49m\u001b[43mt\u001b[49m\u001b[43m.\u001b[49m\u001b[43mupdate_to\u001b[49m\u001b[43m,\u001b[49m\u001b[43m \u001b[49m\u001b[43m*\u001b[49m\u001b[43m*\u001b[49m\u001b[43mkwargs\u001b[49m\u001b[43m)\u001b[49m  \u001b[38;5;66;03m# noqa:S310\u001b[39;00m\n\u001b[32m    416\u001b[39m \u001b[38;5;28;01mexcept\u001b[39;00m urllib.error.URLError \u001b[38;5;28;01mas\u001b[39;00m e:\n",
      "\u001b[36mFile \u001b[39m\u001b[32m~/hdd/miniconda3/envs/rxnflow-iupac/lib/python3.12/urllib/request.py:240\u001b[39m, in \u001b[36murlretrieve\u001b[39m\u001b[34m(url, filename, reporthook, data)\u001b[39m\n\u001b[32m    238\u001b[39m url_type, path = _splittype(url)\n\u001b[32m--> \u001b[39m\u001b[32m240\u001b[39m \u001b[38;5;28;01mwith\u001b[39;00m contextlib.closing(\u001b[43murlopen\u001b[49m\u001b[43m(\u001b[49m\u001b[43murl\u001b[49m\u001b[43m,\u001b[49m\u001b[43m \u001b[49m\u001b[43mdata\u001b[49m\u001b[43m)\u001b[49m) \u001b[38;5;28;01mas\u001b[39;00m fp:\n\u001b[32m    241\u001b[39m     headers = fp.info()\n",
      "\u001b[36mFile \u001b[39m\u001b[32m~/hdd/miniconda3/envs/rxnflow-iupac/lib/python3.12/urllib/request.py:215\u001b[39m, in \u001b[36murlopen\u001b[39m\u001b[34m(url, data, timeout, cafile, capath, cadefault, context)\u001b[39m\n\u001b[32m    214\u001b[39m     opener = _opener\n\u001b[32m--> \u001b[39m\u001b[32m215\u001b[39m \u001b[38;5;28;01mreturn\u001b[39;00m \u001b[43mopener\u001b[49m\u001b[43m.\u001b[49m\u001b[43mopen\u001b[49m\u001b[43m(\u001b[49m\u001b[43murl\u001b[49m\u001b[43m,\u001b[49m\u001b[43m \u001b[49m\u001b[43mdata\u001b[49m\u001b[43m,\u001b[49m\u001b[43m \u001b[49m\u001b[43mtimeout\u001b[49m\u001b[43m)\u001b[49m\n",
      "\u001b[36mFile \u001b[39m\u001b[32m~/hdd/miniconda3/envs/rxnflow-iupac/lib/python3.12/urllib/request.py:521\u001b[39m, in \u001b[36mOpenerDirector.open\u001b[39m\u001b[34m(self, fullurl, data, timeout)\u001b[39m\n\u001b[32m    520\u001b[39m     meth = \u001b[38;5;28mgetattr\u001b[39m(processor, meth_name)\n\u001b[32m--> \u001b[39m\u001b[32m521\u001b[39m     response = \u001b[43mmeth\u001b[49m\u001b[43m(\u001b[49m\u001b[43mreq\u001b[49m\u001b[43m,\u001b[49m\u001b[43m \u001b[49m\u001b[43mresponse\u001b[49m\u001b[43m)\u001b[49m\n\u001b[32m    523\u001b[39m \u001b[38;5;28;01mreturn\u001b[39;00m response\n",
      "\u001b[36mFile \u001b[39m\u001b[32m~/hdd/miniconda3/envs/rxnflow-iupac/lib/python3.12/urllib/request.py:630\u001b[39m, in \u001b[36mHTTPErrorProcessor.http_response\u001b[39m\u001b[34m(self, request, response)\u001b[39m\n\u001b[32m    629\u001b[39m \u001b[38;5;28;01mif\u001b[39;00m \u001b[38;5;129;01mnot\u001b[39;00m (\u001b[32m200\u001b[39m <= code < \u001b[32m300\u001b[39m):\n\u001b[32m--> \u001b[39m\u001b[32m630\u001b[39m     response = \u001b[38;5;28;43mself\u001b[39;49m\u001b[43m.\u001b[49m\u001b[43mparent\u001b[49m\u001b[43m.\u001b[49m\u001b[43merror\u001b[49m\u001b[43m(\u001b[49m\n\u001b[32m    631\u001b[39m \u001b[43m        \u001b[49m\u001b[33;43m'\u001b[39;49m\u001b[33;43mhttp\u001b[39;49m\u001b[33;43m'\u001b[39;49m\u001b[43m,\u001b[49m\u001b[43m \u001b[49m\u001b[43mrequest\u001b[49m\u001b[43m,\u001b[49m\u001b[43m \u001b[49m\u001b[43mresponse\u001b[49m\u001b[43m,\u001b[49m\u001b[43m \u001b[49m\u001b[43mcode\u001b[49m\u001b[43m,\u001b[49m\u001b[43m \u001b[49m\u001b[43mmsg\u001b[49m\u001b[43m,\u001b[49m\u001b[43m \u001b[49m\u001b[43mhdrs\u001b[49m\u001b[43m)\u001b[49m\n\u001b[32m    633\u001b[39m \u001b[38;5;28;01mreturn\u001b[39;00m response\n",
      "\u001b[36mFile \u001b[39m\u001b[32m~/hdd/miniconda3/envs/rxnflow-iupac/lib/python3.12/urllib/request.py:553\u001b[39m, in \u001b[36mOpenerDirector.error\u001b[39m\u001b[34m(self, proto, *args)\u001b[39m\n\u001b[32m    552\u001b[39m args = (\u001b[38;5;28mdict\u001b[39m, proto, meth_name) + args\n\u001b[32m--> \u001b[39m\u001b[32m553\u001b[39m result = \u001b[38;5;28;43mself\u001b[39;49m\u001b[43m.\u001b[49m\u001b[43m_call_chain\u001b[49m\u001b[43m(\u001b[49m\u001b[43m*\u001b[49m\u001b[43margs\u001b[49m\u001b[43m)\u001b[49m\n\u001b[32m    554\u001b[39m \u001b[38;5;28;01mif\u001b[39;00m result:\n",
      "\u001b[36mFile \u001b[39m\u001b[32m~/hdd/miniconda3/envs/rxnflow-iupac/lib/python3.12/urllib/request.py:492\u001b[39m, in \u001b[36mOpenerDirector._call_chain\u001b[39m\u001b[34m(self, chain, kind, meth_name, *args)\u001b[39m\n\u001b[32m    491\u001b[39m func = \u001b[38;5;28mgetattr\u001b[39m(handler, meth_name)\n\u001b[32m--> \u001b[39m\u001b[32m492\u001b[39m result = \u001b[43mfunc\u001b[49m\u001b[43m(\u001b[49m\u001b[43m*\u001b[49m\u001b[43margs\u001b[49m\u001b[43m)\u001b[49m\n\u001b[32m    493\u001b[39m \u001b[38;5;28;01mif\u001b[39;00m result \u001b[38;5;129;01mis\u001b[39;00m \u001b[38;5;129;01mnot\u001b[39;00m \u001b[38;5;28;01mNone\u001b[39;00m:\n",
      "\u001b[36mFile \u001b[39m\u001b[32m~/hdd/miniconda3/envs/rxnflow-iupac/lib/python3.12/urllib/request.py:745\u001b[39m, in \u001b[36mHTTPRedirectHandler.http_error_302\u001b[39m\u001b[34m(self, req, fp, code, msg, headers)\u001b[39m\n\u001b[32m    743\u001b[39m fp.close()\n\u001b[32m--> \u001b[39m\u001b[32m745\u001b[39m \u001b[38;5;28;01mreturn\u001b[39;00m \u001b[38;5;28;43mself\u001b[39;49m\u001b[43m.\u001b[49m\u001b[43mparent\u001b[49m\u001b[43m.\u001b[49m\u001b[43mopen\u001b[49m\u001b[43m(\u001b[49m\u001b[43mnew\u001b[49m\u001b[43m,\u001b[49m\u001b[43m \u001b[49m\u001b[43mtimeout\u001b[49m\u001b[43m=\u001b[49m\u001b[43mreq\u001b[49m\u001b[43m.\u001b[49m\u001b[43mtimeout\u001b[49m\u001b[43m)\u001b[49m\n",
      "\u001b[36mFile \u001b[39m\u001b[32m~/hdd/miniconda3/envs/rxnflow-iupac/lib/python3.12/urllib/request.py:521\u001b[39m, in \u001b[36mOpenerDirector.open\u001b[39m\u001b[34m(self, fullurl, data, timeout)\u001b[39m\n\u001b[32m    520\u001b[39m     meth = \u001b[38;5;28mgetattr\u001b[39m(processor, meth_name)\n\u001b[32m--> \u001b[39m\u001b[32m521\u001b[39m     response = \u001b[43mmeth\u001b[49m\u001b[43m(\u001b[49m\u001b[43mreq\u001b[49m\u001b[43m,\u001b[49m\u001b[43m \u001b[49m\u001b[43mresponse\u001b[49m\u001b[43m)\u001b[49m\n\u001b[32m    523\u001b[39m \u001b[38;5;28;01mreturn\u001b[39;00m response\n",
      "\u001b[36mFile \u001b[39m\u001b[32m~/hdd/miniconda3/envs/rxnflow-iupac/lib/python3.12/urllib/request.py:630\u001b[39m, in \u001b[36mHTTPErrorProcessor.http_response\u001b[39m\u001b[34m(self, request, response)\u001b[39m\n\u001b[32m    629\u001b[39m \u001b[38;5;28;01mif\u001b[39;00m \u001b[38;5;129;01mnot\u001b[39;00m (\u001b[32m200\u001b[39m <= code < \u001b[32m300\u001b[39m):\n\u001b[32m--> \u001b[39m\u001b[32m630\u001b[39m     response = \u001b[38;5;28;43mself\u001b[39;49m\u001b[43m.\u001b[49m\u001b[43mparent\u001b[49m\u001b[43m.\u001b[49m\u001b[43merror\u001b[49m\u001b[43m(\u001b[49m\n\u001b[32m    631\u001b[39m \u001b[43m        \u001b[49m\u001b[33;43m'\u001b[39;49m\u001b[33;43mhttp\u001b[39;49m\u001b[33;43m'\u001b[39;49m\u001b[43m,\u001b[49m\u001b[43m \u001b[49m\u001b[43mrequest\u001b[49m\u001b[43m,\u001b[49m\u001b[43m \u001b[49m\u001b[43mresponse\u001b[49m\u001b[43m,\u001b[49m\u001b[43m \u001b[49m\u001b[43mcode\u001b[49m\u001b[43m,\u001b[49m\u001b[43m \u001b[49m\u001b[43mmsg\u001b[49m\u001b[43m,\u001b[49m\u001b[43m \u001b[49m\u001b[43mhdrs\u001b[49m\u001b[43m)\u001b[49m\n\u001b[32m    633\u001b[39m \u001b[38;5;28;01mreturn\u001b[39;00m response\n",
      "\u001b[36mFile \u001b[39m\u001b[32m~/hdd/miniconda3/envs/rxnflow-iupac/lib/python3.12/urllib/request.py:559\u001b[39m, in \u001b[36mOpenerDirector.error\u001b[39m\u001b[34m(self, proto, *args)\u001b[39m\n\u001b[32m    558\u001b[39m args = (\u001b[38;5;28mdict\u001b[39m, \u001b[33m'\u001b[39m\u001b[33mdefault\u001b[39m\u001b[33m'\u001b[39m, \u001b[33m'\u001b[39m\u001b[33mhttp_error_default\u001b[39m\u001b[33m'\u001b[39m) + orig_args\n\u001b[32m--> \u001b[39m\u001b[32m559\u001b[39m \u001b[38;5;28;01mreturn\u001b[39;00m \u001b[38;5;28;43mself\u001b[39;49m\u001b[43m.\u001b[49m\u001b[43m_call_chain\u001b[49m\u001b[43m(\u001b[49m\u001b[43m*\u001b[49m\u001b[43margs\u001b[49m\u001b[43m)\u001b[49m\n",
      "\u001b[36mFile \u001b[39m\u001b[32m~/hdd/miniconda3/envs/rxnflow-iupac/lib/python3.12/urllib/request.py:492\u001b[39m, in \u001b[36mOpenerDirector._call_chain\u001b[39m\u001b[34m(self, chain, kind, meth_name, *args)\u001b[39m\n\u001b[32m    491\u001b[39m func = \u001b[38;5;28mgetattr\u001b[39m(handler, meth_name)\n\u001b[32m--> \u001b[39m\u001b[32m492\u001b[39m result = \u001b[43mfunc\u001b[49m\u001b[43m(\u001b[49m\u001b[43m*\u001b[49m\u001b[43margs\u001b[49m\u001b[43m)\u001b[49m\n\u001b[32m    493\u001b[39m \u001b[38;5;28;01mif\u001b[39;00m result \u001b[38;5;129;01mis\u001b[39;00m \u001b[38;5;129;01mnot\u001b[39;00m \u001b[38;5;28;01mNone\u001b[39;00m:\n",
      "\u001b[36mFile \u001b[39m\u001b[32m~/hdd/miniconda3/envs/rxnflow-iupac/lib/python3.12/urllib/request.py:639\u001b[39m, in \u001b[36mHTTPDefaultErrorHandler.http_error_default\u001b[39m\u001b[34m(self, req, fp, code, msg, hdrs)\u001b[39m\n\u001b[32m    638\u001b[39m \u001b[38;5;28;01mdef\u001b[39;00m\u001b[38;5;250m \u001b[39m\u001b[34mhttp_error_default\u001b[39m(\u001b[38;5;28mself\u001b[39m, req, fp, code, msg, hdrs):\n\u001b[32m--> \u001b[39m\u001b[32m639\u001b[39m     \u001b[38;5;28;01mraise\u001b[39;00m HTTPError(req.full_url, code, msg, hdrs, fp)\n",
      "\u001b[31mHTTPError\u001b[39m: HTTP Error 410: GONE",
      "\nThe above exception was the direct cause of the following exception:\n",
      "\u001b[31mDownloadError\u001b[39m                             Traceback (most recent call last)",
      "\u001b[36mCell\u001b[39m\u001b[36m \u001b[39m\u001b[32mIn[1]\u001b[39m\u001b[32m, line 7\u001b[39m\n\u001b[32m      4\u001b[39m \u001b[38;5;28;01mfrom\u001b[39;00m\u001b[38;5;250m \u001b[39m\u001b[34;01mtqdm\u001b[39;00m\u001b[38;5;250m \u001b[39m\u001b[38;5;28;01mimport\u001b[39;00m tqdm\n\u001b[32m      5\u001b[39m \u001b[38;5;28;01mfrom\u001b[39;00m\u001b[38;5;250m \u001b[39m\u001b[34;01mmultiprocessing\u001b[39;00m\u001b[38;5;250m \u001b[39m\u001b[38;5;28;01mimport\u001b[39;00m Pool, cpu_count\n\u001b[32m----> \u001b[39m\u001b[32m7\u001b[39m \u001b[38;5;28;01mfrom\u001b[39;00m\u001b[38;5;250m \u001b[39m\u001b[34;01mSTOUT\u001b[39;00m\u001b[38;5;250m \u001b[39m\u001b[38;5;28;01mimport\u001b[39;00m translate_forward, translate_reverse\n",
      "\u001b[36mFile \u001b[39m\u001b[32m~/hdd/miniconda3/envs/rxnflow-iupac/lib/python3.12/site-packages/STOUT/__init__.py:36\u001b[39m\n\u001b[32m     29\u001b[39m __version__ = \u001b[33m\"\u001b[39m\u001b[33m2.1.0\u001b[39m\u001b[33m\"\u001b[39m\n\u001b[32m     31\u001b[39m __all__ = [\n\u001b[32m     32\u001b[39m     \u001b[33m\"\u001b[39m\u001b[33mSTOUT\u001b[39m\u001b[33m\"\u001b[39m,\n\u001b[32m     33\u001b[39m ]\n\u001b[32m---> \u001b[39m\u001b[32m36\u001b[39m \u001b[38;5;28;01mfrom\u001b[39;00m\u001b[38;5;250m \u001b[39m\u001b[34;01m.\u001b[39;00m\u001b[34;01mstout\u001b[39;00m\u001b[38;5;250m \u001b[39m\u001b[38;5;28;01mimport\u001b[39;00m translate_forward, translate_reverse\n",
      "\u001b[36mFile \u001b[39m\u001b[32m~/hdd/miniconda3/envs/rxnflow-iupac/lib/python3.12/site-packages/STOUT/stout.py:33\u001b[39m\n\u001b[32m     31\u001b[39m \u001b[38;5;66;03m# download models to a default location\u001b[39;00m\n\u001b[32m     32\u001b[39m \u001b[38;5;28;01mif\u001b[39;00m \u001b[38;5;129;01mnot\u001b[39;00m os.path.exists(model_path):\n\u001b[32m---> \u001b[39m\u001b[32m33\u001b[39m     \u001b[43mhelper\u001b[49m\u001b[43m.\u001b[49m\u001b[43mdownload_trained_weights\u001b[49m\u001b[43m(\u001b[49m\u001b[43mmodel_url\u001b[49m\u001b[43m,\u001b[49m\u001b[43m \u001b[49m\u001b[43mdefault_path\u001b[49m\u001b[43m)\u001b[49m\n\u001b[32m     36\u001b[39m \u001b[38;5;66;03m# Load the packed model forward\u001b[39;00m\n\u001b[32m     37\u001b[39m reloaded_forward = tf.saved_model.load(default_path.as_posix() + \u001b[33m\"\u001b[39m\u001b[33m/translator_forward\u001b[39m\u001b[33m\"\u001b[39m)\n",
      "\u001b[36mFile \u001b[39m\u001b[32m~/hdd/miniconda3/envs/rxnflow-iupac/lib/python3.12/site-packages/STOUT/repack/helper.py:262\u001b[39m, in \u001b[36mdownload_trained_weights\u001b[39m\u001b[34m(model_url, model_path, verbose)\u001b[39m\n\u001b[32m    260\u001b[39m \u001b[38;5;28;01mif\u001b[39;00m verbose > \u001b[32m0\u001b[39m:\n\u001b[32m    261\u001b[39m     \u001b[38;5;28mprint\u001b[39m(\u001b[33m\"\u001b[39m\u001b[33mDownloading trained model to \u001b[39m\u001b[33m\"\u001b[39m + \u001b[38;5;28mstr\u001b[39m(model_path))\n\u001b[32m--> \u001b[39m\u001b[32m262\u001b[39m     model_path = \u001b[43mpystow\u001b[49m\u001b[43m.\u001b[49m\u001b[43mensure\u001b[49m\u001b[43m(\u001b[49m\u001b[33;43m\"\u001b[39;49m\u001b[33;43mSTOUT-V2\u001b[39;49m\u001b[33;43m\"\u001b[39;49m\u001b[43m,\u001b[49m\u001b[43m \u001b[49m\u001b[43murl\u001b[49m\u001b[43m=\u001b[49m\u001b[43mmodel_url\u001b[49m\u001b[43m)\u001b[49m\n\u001b[32m    263\u001b[39m     \u001b[38;5;28mprint\u001b[39m(model_path)\n\u001b[32m    264\u001b[39m \u001b[38;5;28;01mif\u001b[39;00m verbose > \u001b[32m0\u001b[39m:\n",
      "\u001b[36mFile \u001b[39m\u001b[32m~/hdd/miniconda3/envs/rxnflow-iupac/lib/python3.12/site-packages/pystow/api.py:301\u001b[39m, in \u001b[36mensure\u001b[39m\u001b[34m(key, url, name, version, force, download_kwargs, *subkeys)\u001b[39m\n\u001b[32m    262\u001b[39m \u001b[38;5;250m\u001b[39m\u001b[33;03m\"\"\"Ensure a file is downloaded.\u001b[39;00m\n\u001b[32m    263\u001b[39m \n\u001b[32m    264\u001b[39m \u001b[33;03m:param key: The name of the module. No funny characters. The envvar <key>_HOME where\u001b[39;00m\n\u001b[32m   (...)\u001b[39m\u001b[32m    298\u001b[39m \u001b[33;03m:returns: The path of the file that has been downloaded (or already exists)\u001b[39;00m\n\u001b[32m    299\u001b[39m \u001b[33;03m\"\"\"\u001b[39;00m\n\u001b[32m    300\u001b[39m _module = Module.from_key(key, ensure_exists=\u001b[38;5;28;01mTrue\u001b[39;00m)\n\u001b[32m--> \u001b[39m\u001b[32m301\u001b[39m \u001b[38;5;28;01mreturn\u001b[39;00m \u001b[43m_module\u001b[49m\u001b[43m.\u001b[49m\u001b[43mensure\u001b[49m\u001b[43m(\u001b[49m\n\u001b[32m    302\u001b[39m \u001b[43m    \u001b[49m\u001b[43m*\u001b[49m\u001b[43msubkeys\u001b[49m\u001b[43m,\u001b[49m\u001b[43m \u001b[49m\u001b[43murl\u001b[49m\u001b[43m=\u001b[49m\u001b[43murl\u001b[49m\u001b[43m,\u001b[49m\u001b[43m \u001b[49m\u001b[43mname\u001b[49m\u001b[43m=\u001b[49m\u001b[43mname\u001b[49m\u001b[43m,\u001b[49m\u001b[43m \u001b[49m\u001b[43mversion\u001b[49m\u001b[43m=\u001b[49m\u001b[43mversion\u001b[49m\u001b[43m,\u001b[49m\u001b[43m \u001b[49m\u001b[43mforce\u001b[49m\u001b[43m=\u001b[49m\u001b[43mforce\u001b[49m\u001b[43m,\u001b[49m\u001b[43m \u001b[49m\u001b[43mdownload_kwargs\u001b[49m\u001b[43m=\u001b[49m\u001b[43mdownload_kwargs\u001b[49m\n\u001b[32m    303\u001b[39m \u001b[43m\u001b[49m\u001b[43m)\u001b[49m\n",
      "\u001b[36mFile \u001b[39m\u001b[32m~/hdd/miniconda3/envs/rxnflow-iupac/lib/python3.12/site-packages/pystow/impl.py:242\u001b[39m, in \u001b[36mModule.ensure\u001b[39m\u001b[34m(self, url, name, version, force, download_kwargs, *subkeys)\u001b[39m\n\u001b[32m    240\u001b[39m     name = name_from_url(url)\n\u001b[32m    241\u001b[39m path = \u001b[38;5;28mself\u001b[39m.join(*subkeys, name=name, version=version, ensure_exists=\u001b[38;5;28;01mTrue\u001b[39;00m)\n\u001b[32m--> \u001b[39m\u001b[32m242\u001b[39m \u001b[43mutils\u001b[49m\u001b[43m.\u001b[49m\u001b[43mdownload\u001b[49m\u001b[43m(\u001b[49m\n\u001b[32m    243\u001b[39m \u001b[43m    \u001b[49m\u001b[43murl\u001b[49m\u001b[43m=\u001b[49m\u001b[43murl\u001b[49m\u001b[43m,\u001b[49m\n\u001b[32m    244\u001b[39m \u001b[43m    \u001b[49m\u001b[43mpath\u001b[49m\u001b[43m=\u001b[49m\u001b[43mpath\u001b[49m\u001b[43m,\u001b[49m\n\u001b[32m    245\u001b[39m \u001b[43m    \u001b[49m\u001b[43mforce\u001b[49m\u001b[43m=\u001b[49m\u001b[43mforce\u001b[49m\u001b[43m,\u001b[49m\n\u001b[32m    246\u001b[39m \u001b[43m    \u001b[49m\u001b[43m*\u001b[49m\u001b[43m*\u001b[49m\u001b[43m(\u001b[49m\u001b[43mdownload_kwargs\u001b[49m\u001b[43m \u001b[49m\u001b[38;5;129;43;01mor\u001b[39;49;00m\u001b[43m \u001b[49m\u001b[43m{\u001b[49m\u001b[43m}\u001b[49m\u001b[43m)\u001b[49m\u001b[43m,\u001b[49m\n\u001b[32m    247\u001b[39m \u001b[43m\u001b[49m\u001b[43m)\u001b[49m\n\u001b[32m    248\u001b[39m \u001b[38;5;28;01mreturn\u001b[39;00m path\n",
      "\u001b[36mFile \u001b[39m\u001b[32m~/hdd/miniconda3/envs/rxnflow-iupac/lib/python3.12/site-packages/pystow/utils.py:417\u001b[39m, in \u001b[36mdownload\u001b[39m\u001b[34m(url, path, force, clean_on_failure, backend, hexdigests, hexdigests_remote, hexdigests_strict, progress_bar, tqdm_kwargs, **kwargs)\u001b[39m\n\u001b[32m    415\u001b[39m             urlretrieve(url, path, reporthook=t.update_to, **kwargs)  \u001b[38;5;66;03m# noqa:S310\u001b[39;00m\n\u001b[32m    416\u001b[39m         \u001b[38;5;28;01mexcept\u001b[39;00m urllib.error.URLError \u001b[38;5;28;01mas\u001b[39;00m e:\n\u001b[32m--> \u001b[39m\u001b[32m417\u001b[39m             \u001b[38;5;28;01mraise\u001b[39;00m DownloadError(backend, url, path, e) \u001b[38;5;28;01mfrom\u001b[39;00m\u001b[38;5;250m \u001b[39m\u001b[34;01me\u001b[39;00m\n\u001b[32m    418\u001b[39m \u001b[38;5;28;01melif\u001b[39;00m backend == \u001b[33m\"\u001b[39m\u001b[33mrequests\u001b[39m\u001b[33m\"\u001b[39m:\n\u001b[32m    419\u001b[39m     kwargs.setdefault(\u001b[33m\"\u001b[39m\u001b[33mstream\u001b[39m\u001b[33m\"\u001b[39m, \u001b[38;5;28;01mTrue\u001b[39;00m)\n",
      "\u001b[31mDownloadError\u001b[39m: Failed with urllib to download https://zenodo.org/records/12542360/files/models.zip?download=1 to /home/rlawlsgurjh/.data/STOUT-V2/models.zip"
     ]
    }
   ],
   "source": [
    "import os\n",
    "import pandas as pd\n",
    "\n",
    "from tqdm import tqdm\n",
    "from multiprocessing import Pool, cpu_count\n",
    "\n",
    "from STOUT import translate_forward, translate_reverse"
   ]
  },
  {
   "cell_type": "code",
   "execution_count": null,
   "id": "7eb8c16e",
   "metadata": {},
   "outputs": [],
   "source": [
    "# SMILES to IUPAC name translation\n",
    "SMILES = \"CN1C=NC2=C1C(=O)N(C(=O)N2C)C\"\n",
    "IUPAC_name = translate_forward(SMILES)\n",
    "print(f\"🧪 IUPAC name of {SMILES} is: {IUPAC_name}\")\n",
    "\n",
    "# IUPAC name to SMILES translation\n",
    "IUPAC_name = \"1,3,7-trimethylpurine-2,6-dione\"\n",
    "SMILES = translate_reverse(IUPAC_name)\n",
    "print(f\"🔬 SMILES of {IUPAC_name} is: {SMILES}\")"
   ]
  },
  {
   "cell_type": "code",
   "execution_count": null,
   "id": "a9e1f8ac",
   "metadata": {},
   "outputs": [],
   "source": [
    "ROOT_DIR = os.path.join('/home', 'rlawlsgurjh', 'hdd', 'work', 'RxnFlow')\n",
    "\n",
    "DATA_DIR = os.path.join(ROOT_DIR, 'data', 'building_blocks')\n",
    "\n",
    "SMI_PATH = os.path.join(DATA_DIR, 'enamine_catalog.smi')\n",
    "\n",
    "CHECKPOINT_PATH = os.path.join(DATA_DIR, 'iupac_results.csv')"
   ]
  },
  {
   "cell_type": "code",
   "execution_count": null,
   "id": "815fd316",
   "metadata": {},
   "outputs": [],
   "source": [
    "def fetch_iupac(smi):\n",
    "    try:\n",
    "        iupac_name = translate_forward(smi)\n",
    "        \n",
    "        if iupac_name and isinstance(iupac_name, str):\n",
    "            return (\"success\", smi, iupac_name)\n",
    "        else:\n",
    "            return (\"error\", smi, None)\n",
    "        \n",
    "    except Exception as e:\n",
    "        return (\"error\", smi, None)"
   ]
  },
  {
   "cell_type": "code",
   "execution_count": null,
   "id": "aca56a5f",
   "metadata": {},
   "outputs": [],
   "source": [
    "def check_iupac_parallel(smi_path, num_cpus=None):\n",
    "    \"\"\"\n",
    "    Reads a .smi file and processes it in parallel to fetch IUPAC names.\n",
    "    \"\"\"\n",
    "    if num_cpus is None:\n",
    "        # Default to using all available CPU cores\n",
    "        num_cpus = cpu_count()\n",
    "        print(f\"Using {num_cpus} CPU cores.\")\n",
    "\n",
    "    # First, parse all valid SMILES strings from the file\n",
    "    smiles_to_process = []\n",
    "    try:\n",
    "        with open(smi_path, \"r\") as f:\n",
    "            for line in f:\n",
    "                parts = line.strip().split('\\t')\n",
    "                if parts and parts[0]:\n",
    "                    smiles_to_process.append(parts[0])\n",
    "    except FileNotFoundError:\n",
    "        print(f\"Error: File not found at {smi_path}\")\n",
    "        return pd.DataFrame({\"smiles\": [], \"iupac\": [], \"error\": []})\n",
    "\n",
    "    # Prepare the dictionary to store final results\n",
    "    results_dict = {\n",
    "        \"smiles\": [],\n",
    "        \"iupac\": [],\n",
    "        \"error\": []\n",
    "    }\n",
    "\n",
    "    # Create a pool of worker processes\n",
    "    with Pool(processes=num_cpus) as pool:\n",
    "        # Use pool.imap_unordered for efficiency and a responsive progress bar\n",
    "        # It applies the 'fetch_iupac' function to each item in 'smiles_to_process'\n",
    "        results_iterator = pool.imap_unordered(fetch_iupac, smiles_to_process)\n",
    "        \n",
    "        # Wrap the iterator with tqdm to show progress\n",
    "        for result in tqdm(results_iterator, total=len(smiles_to_process), desc=\"Processing SMILES -> IUPAC\"):\n",
    "            status, smi, iupac = result\n",
    "            if status == \"success\":\n",
    "                results_dict[\"smiles\"].append(smi)\n",
    "                results_dict[\"iupac\"].append(iupac)\n",
    "            else:\n",
    "                results_dict[\"error\"].append(smi)\n",
    "\n",
    "    return pd.DataFrame(results_dict)"
   ]
  },
  {
   "cell_type": "code",
   "execution_count": null,
   "id": "e1b40e73",
   "metadata": {},
   "outputs": [],
   "source": [
    "df = check_iupac_parallel(\n",
    "    smi_path=SMI_PATH,\n",
    "    num_cpus=12,\n",
    ")"
   ]
  },
  {
   "cell_type": "code",
   "execution_count": null,
   "id": "4942abeb",
   "metadata": {},
   "outputs": [],
   "source": []
  }
 ],
 "metadata": {
  "kernelspec": {
   "display_name": "Python 3 (ipykernel)",
   "language": "python",
   "name": "python3"
  }
 },
 "nbformat": 4,
 "nbformat_minor": 5
}
