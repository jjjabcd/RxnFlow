{
 "cells": [
  {
   "cell_type": "code",
   "execution_count": 1,
   "id": "5898ce29",
   "metadata": {},
   "outputs": [],
   "source": [
    "import os\n",
    "import numpy as np"
   ]
  },
  {
   "cell_type": "code",
   "execution_count": 2,
   "id": "494b98a6",
   "metadata": {},
   "outputs": [],
   "source": [
    "ROOT_DIR = os.path.join('/home', 'rlawlsgurjh', 'hdd', 'work', 'RxnFlow')\n",
    "\n",
    "DATA_DIR = os.path.join(ROOT_DIR, 'data', 'envs')"
   ]
  },
  {
   "cell_type": "code",
   "execution_count": 3,
   "id": "b2e9bee4",
   "metadata": {},
   "outputs": [
    {
     "name": "stdout",
     "output_type": "stream",
     "text": [
      "(1459619, 8)\n",
      "[[2.651314  1.9       0.4       ... 0.        0.5584    0.17533  ]\n",
      " [3.581252  2.6       0.5       ... 0.        0.436     0.494342 ]\n",
      " [2.9208817 2.        0.6       ... 0.        0.6119    0.22719  ]\n",
      " ...\n",
      " [1.6706947 1.2       0.3       ... 0.1       0.7801    0.0221   ]\n",
      " [1.9906447 1.4       0.4       ... 0.        0.7255    0.12902  ]\n",
      " [2.0301495 1.3       0.3       ... 0.        0.5232    0.18479  ]]\n"
     ]
    }
   ],
   "source": [
    "npy_path = os.path.join(DATA_DIR, 'catalog', 'bb_desc.npy')\n",
    "bb_desc = np.load(npy_path)\n",
    "\n",
    "print(bb_desc.shape)\n",
    "print(bb_desc)"
   ]
  },
  {
   "cell_type": "code",
   "execution_count": 4,
   "id": "035a4053",
   "metadata": {},
   "outputs": [
    {
     "name": "stdout",
     "output_type": "stream",
     "text": [
      "(1459619, 1190)\n",
      "[[False False False ... False False False]\n",
      " [False False False ... False False False]\n",
      " [False False False ... False False False]\n",
      " ...\n",
      " [False False False ... False False False]\n",
      " [False False False ... False False False]\n",
      " [False False False ... False False False]]\n"
     ]
    }
   ],
   "source": [
    "npy_path = os.path.join(DATA_DIR, 'catalog', 'bb_fp_2_1024.npy')\n",
    "bb_fp_2_1024 = np.load(npy_path)\n",
    "\n",
    "print(bb_fp_2_1024.shape)\n",
    "print(bb_fp_2_1024)"
   ]
  },
  {
   "cell_type": "code",
   "execution_count": 5,
   "id": "5f3c4dad",
   "metadata": {},
   "outputs": [
    {
     "name": "stdout",
     "output_type": "stream",
     "text": [
      "(204, 1459619)\n",
      "[[False False False ... False False False]\n",
      " [ True False False ... False False False]\n",
      " [False False False ... False False False]\n",
      " ...\n",
      " [False False False ... False False False]\n",
      " [False False False ... False False False]\n",
      " [False False False ... False False False]]\n"
     ]
    }
   ],
   "source": [
    "npy_path = os.path.join(DATA_DIR, 'catalog', 'bb_mask.npy')\n",
    "bb_mask = np.load(npy_path)\n",
    "\n",
    "print(bb_mask.shape)\n",
    "print(bb_mask)"
   ]
  },
  {
   "cell_type": "code",
   "execution_count": null,
   "id": "0f7f458e",
   "metadata": {},
   "outputs": [],
   "source": []
  },
  {
   "cell_type": "code",
   "execution_count": null,
   "id": "245c3900",
   "metadata": {},
   "outputs": [],
   "source": []
  },
  {
   "cell_type": "code",
   "execution_count": null,
   "id": "65667158",
   "metadata": {},
   "outputs": [],
   "source": []
  },
  {
   "cell_type": "code",
   "execution_count": null,
   "id": "5aa1e8da",
   "metadata": {},
   "outputs": [],
   "source": []
  }
 ],
 "metadata": {
  "kernelspec": {
   "display_name": "Python 3 (ipykernel)",
   "language": "python",
   "name": "python3"
  },
  "language_info": {
   "codemirror_mode": {
    "name": "ipython",
    "version": 3
   },
   "file_extension": ".py",
   "mimetype": "text/x-python",
   "name": "python",
   "nbconvert_exporter": "python",
   "pygments_lexer": "ipython3",
   "version": "3.12.11"
  }
 },
 "nbformat": 4,
 "nbformat_minor": 5
}
