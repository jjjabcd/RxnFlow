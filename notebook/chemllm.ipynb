{
 "cells": [
  {
   "cell_type": "code",
   "execution_count": 1,
   "id": "8de3b741",
   "metadata": {},
   "outputs": [],
   "source": [
    "import os\n",
    "from transformers import AutoTokenizer, AutoModelForCausalLM\n",
    "\n",
    "import torch"
   ]
  },
  {
   "cell_type": "code",
   "execution_count": 2,
   "id": "0877f07f",
   "metadata": {},
   "outputs": [],
   "source": [
    "ROOT_DIR = os.path.join('/home', 'rlawlsgurjh', 'hdd', 'work', 'RxnFlow')\n",
    "MODEL_DIR = os.path.join(ROOT_DIR, 'models', 'ChemLLM-7B-Chat')\n",
    "os.makedirs(MODEL_DIR, exist_ok=True)"
   ]
  },
  {
   "cell_type": "code",
   "execution_count": 3,
   "id": "71c785d4",
   "metadata": {},
   "outputs": [
    {
     "data": {
      "application/vnd.jupyter.widget-view+json": {
       "model_id": "aefcd5ddabe84b6a94c21b474df875f3",
       "version_major": 2,
       "version_minor": 0
      },
      "text/plain": [
       "Loading checkpoint shards:   0%|          | 0/2 [00:00<?, ?it/s]"
      ]
     },
     "metadata": {},
     "output_type": "display_data"
    },
    {
     "data": {
      "text/plain": [
       "('/home/rlawlsgurjh/hdd/work/RxnFlow/models/ChemLLM-7B-Chat/tokenizer_config.json',\n",
       " '/home/rlawlsgurjh/hdd/work/RxnFlow/models/ChemLLM-7B-Chat/special_tokens_map.json',\n",
       " '/home/rlawlsgurjh/hdd/work/RxnFlow/models/ChemLLM-7B-Chat/./tokenizer.model',\n",
       " '/home/rlawlsgurjh/hdd/work/RxnFlow/models/ChemLLM-7B-Chat/added_tokens.json')"
      ]
     },
     "execution_count": 3,
     "metadata": {},
     "output_type": "execute_result"
    }
   ],
   "source": [
    "model_name_or_id = \"AI4Chem/ChemLLM-7B-Chat\"\n",
    "\n",
    "model = AutoModelForCausalLM.from_pretrained(\n",
    "    model_name_or_id,\n",
    "    dtype=torch.float16,\n",
    "    device_map=None,\n",
    "    trust_remote_code=True\n",
    ")\n",
    "tokenizer = AutoTokenizer.from_pretrained(\n",
    "    model_name_or_id,\n",
    "    trust_remote_code=True\n",
    ")\n",
    "\n",
    "model.save_pretrained(os.path.join(MODEL_DIR))\n",
    "tokenizer.save_pretrained(os.path.join(MODEL_DIR))"
   ]
  },
  {
   "cell_type": "code",
   "execution_count": null,
   "id": "9a13ce7c",
   "metadata": {},
   "outputs": [],
   "source": []
  }
 ],
 "metadata": {
  "kernelspec": {
   "display_name": "Python 3 (ipykernel)",
   "language": "python",
   "name": "python3"
  }
 },
 "nbformat": 4,
 "nbformat_minor": 5
}
